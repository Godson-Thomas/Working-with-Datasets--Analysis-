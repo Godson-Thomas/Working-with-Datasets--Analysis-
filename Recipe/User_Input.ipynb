{
 "cells": [
  {
   "cell_type": "code",
   "execution_count": 93,
   "metadata": {},
   "outputs": [
    {
     "name": "stdout",
     "output_type": "stream",
     "text": [
      "Enter Recipe Name: Saffron Paneer Peda Recipe\n",
      "\n",
      "\n",
      "Recipe Name :  Saffron Paneer Peda Recipe\n",
      "\n",
      "\n",
      "Match Found :  Saffron Paneer Peda Recipe\n",
      "At row : 6863\n",
      "\n",
      "\n",
      "\t\t\t\t Details\n",
      "\n",
      "\n",
      "Srno                                                                  14030\n",
      "RecipeName                                       Saffron Paneer Peda Recipe\n",
      "TranslatedRecipeName                             Saffron Paneer Peda Recipe\n",
      "Ingredients               2 cups Paneer (Homemade Cottage Cheese) - crum...\n",
      "TranslatedIngredients     2 cups Paneer (Homemade Cottage Cheese) - crum...\n",
      "PrepTimeInMins                                                            5\n",
      "CookTimeInMins                                                           15\n",
      "TotalTimeInMins                                                          20\n",
      "Servings                                                                  4\n",
      "Cuisine                                                              Indian\n",
      "Course                                                              Dessert\n",
      "Diet                                                             Vegetarian\n",
      "Instructions              To begin making the Saffron Paneer Peda recipe...\n",
      "TranslatedInstructions    To begin making the Saffron Paneer Peda recipe...\n",
      "URL                       https://www.archanaskitchen.com/saffron-paneer...\n",
      "Name: 6863, dtype: object\n"
     ]
    }
   ],
   "source": [
    "rec_name=str(input('Enter Recipe Name: '))\n",
    "print(\"\\n\")\n",
    "print(\"Recipe Name : \",rec_name)\n",
    "print(\"\\n\")\n",
    "\n",
    "\n",
    "#search\n",
    "import pandas as pd\n",
    "dataset = pd.read_csv(\"E:\\ML\\Datasets\\indian_receipie.csv\")\n",
    "\n",
    "#print(dataset.shape)\n",
    "\n",
    "i=0\n",
    "flag=0\n",
    "\n",
    "# Iterate over  TranslatedRecipeName column of the dataframe\n",
    "for column in dataset[['TranslatedRecipeName']]:   \n",
    "    while(i<=6870):\n",
    "        #Selecting content \n",
    "        columnSeriesObj = dataset[column]\n",
    "        y=columnSeriesObj.values[i]\n",
    "        if rec_name==y:\n",
    "            flag=1\n",
    "            print('Match Found : ', columnSeriesObj.values[i])\n",
    "            print(\"At row :\",i)\n",
    "            print(\"\\n\")\n",
    "            print(\"\\t\\t\\t\\t Details\")\n",
    "            print(\"\\n\")\n",
    "            print(dataset.iloc[i])\n",
    "        i=i+1\n",
    "\n",
    "if(flag==0):\n",
    "    print(\" Match Not Found\")"
   ]
  },
  {
   "cell_type": "code",
   "execution_count": null,
   "metadata": {},
   "outputs": [],
   "source": []
  },
  {
   "cell_type": "code",
   "execution_count": null,
   "metadata": {},
   "outputs": [],
   "source": [
    "\n",
    " "
   ]
  },
  {
   "cell_type": "code",
   "execution_count": null,
   "metadata": {},
   "outputs": [],
   "source": []
  },
  {
   "cell_type": "code",
   "execution_count": null,
   "metadata": {},
   "outputs": [],
   "source": []
  },
  {
   "cell_type": "code",
   "execution_count": null,
   "metadata": {},
   "outputs": [],
   "source": []
  },
  {
   "cell_type": "code",
   "execution_count": null,
   "metadata": {},
   "outputs": [],
   "source": []
  },
  {
   "cell_type": "code",
   "execution_count": null,
   "metadata": {},
   "outputs": [],
   "source": []
  },
  {
   "cell_type": "code",
   "execution_count": null,
   "metadata": {},
   "outputs": [],
   "source": []
  }
 ],
 "metadata": {
  "kernelspec": {
   "display_name": "ML",
   "language": "python",
   "name": "ml"
  },
  "language_info": {
   "codemirror_mode": {
    "name": "ipython",
    "version": 3
   },
   "file_extension": ".py",
   "mimetype": "text/x-python",
   "name": "python",
   "nbconvert_exporter": "python",
   "pygments_lexer": "ipython3",
   "version": "3.7.3"
  }
 },
 "nbformat": 4,
 "nbformat_minor": 2
}
